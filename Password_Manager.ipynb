{
  "nbformat": 4,
  "nbformat_minor": 0,
  "metadata": {
    "colab": {
      "provenance": []
    },
    "kernelspec": {
      "name": "python3",
      "display_name": "Python 3"
    },
    "language_info": {
      "name": "python"
    }
  },
  "cells": [
    {
      "cell_type": "code",
      "execution_count": null,
      "metadata": {
        "colab": {
          "base_uri": "https://localhost:8080/"
        },
        "id": "cDKfiE2-QluK",
        "outputId": "ce6bf6a3-3113-4a21-a643-b7760b5877b2"
      },
      "outputs": [
        {
          "output_type": "stream",
          "name": "stdout",
          "text": [
            "Enter your master password: 12345\n",
            "Would you like to add a new password or view existing ones (view, add), press q to quit? add\n",
            "Account Name: Diven\n",
            "Password: 1718\n",
            "Would you like to add a new password or view existing ones (view, add), press q to quit? view\n",
            "User: Diven | Password: 1718\n"
          ]
        }
      ],
      "source": [
        "from cryptography.fernet import Fernet\n",
        "import os\n",
        "import hashlib\n",
        "\n",
        "# Function to write a new encryption key (only needed once)\n",
        "'''def write_key():\n",
        "    key = Fernet.generate_key()\n",
        "    with open(\"key.key\", \"wb\") as key_file:\n",
        "        key_file.write(key)'''\n",
        "\n",
        "\n",
        "# Function to load the encryption key\n",
        "def load_key():\n",
        "    with open(\"key.key\", \"rb\") as file:\n",
        "        return file.read()\n",
        "\n",
        "# Function to create a hashed master password (only needed once)\n",
        "def create_master_pwd():\n",
        "    master_pwd = input(\"Set your master password: \")\n",
        "    hash_pwd = hashlib.sha256(master_pwd.encode()).hexdigest()\n",
        "    with open(\"master_pwd.txt\", \"w\") as f:\n",
        "        f.write(hash_pwd)\n",
        "    print(\"Master password has been set.\")\n",
        "\n",
        "# Function to verify the master password\n",
        "def verify_master_pwd():\n",
        "    master_pwd = input(\"Enter your master password: \")\n",
        "    hash_pwd = hashlib.sha256(master_pwd.encode()).hexdigest()\n",
        "\n",
        "    if os.path.exists(\"master_pwd.txt\"):\n",
        "        with open(\"master_pwd.txt\", \"r\") as f:\n",
        "            stored_pwd = f.read()\n",
        "        if hash_pwd == stored_pwd:\n",
        "            return True\n",
        "        else:\n",
        "            print(\"Incorrect master password.\")\n",
        "            return False\n",
        "    else:\n",
        "        print(\"Master password file not found. Please set it up first.\")\n",
        "        return False\n",
        "\n",
        "# Initialize encryption key and Fernet\n",
        "key = load_key()\n",
        "fer = Fernet(key)\n",
        "\n",
        "# Function to view passwords\n",
        "def view():\n",
        "    with open('passwords.txt', 'r') as f:\n",
        "        for line in f.readlines():\n",
        "            data = line.rstrip()\n",
        "            user, passw = data.split(\"|\")\n",
        "            print(\"User:\", user, \"| Password:\", fer.decrypt(passw.encode()).decode())\n",
        "\n",
        "# Function to add a new password\n",
        "def add():\n",
        "    name = input('Account Name: ')\n",
        "    pwd = input(\"Password: \")\n",
        "\n",
        "    with open('passwords.txt', 'a') as f:\n",
        "        f.write(name + \"|\" + fer.encrypt(pwd.encode()).decode() + \"\\n\")\n",
        "\n",
        "# Main loop with master password verification\n",
        "if not os.path.exists(\"master_pwd.txt\"):\n",
        "    print(\"No master password file found.\")\n",
        "    create_master_pwd()\n",
        "\n",
        "if verify_master_pwd():\n",
        "    while True:\n",
        "        mode = input(\"Would you like to add a new password or view existing ones (view, add), press q to quit? \").lower()\n",
        "        if mode == \"q\":\n",
        "            break\n",
        "        if mode == \"view\":\n",
        "            view()\n",
        "        elif mode == \"add\":\n",
        "            add()\n",
        "        else:\n",
        "            print(\"Invalid mode.\")\n",
        "else:\n",
        "    print(\"Access denied.\")\n"
      ]
    }
  ]
}